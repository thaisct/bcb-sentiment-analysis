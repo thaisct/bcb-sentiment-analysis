{
 "cells": [
  {
   "cell_type": "code",
   "execution_count": 1,
   "metadata": {},
   "outputs": [],
   "source": [
    "import os\n",
    "import pandas as pd\n",
    "import fitz"
   ]
  },
  {
   "cell_type": "code",
   "execution_count": 2,
   "metadata": {},
   "outputs": [],
   "source": [
    "def convertpdf2text(heading_ls):\n",
    "\n",
    "    \"\"\"\n",
    "    Generates a pickle file with copom minutes in each row\n",
    "\n",
    "    \"\"\"\n",
    "    \n",
    "    ls_pdf = os.listdir('./pdf/teste') # Change path when doing the real script\n",
    "\n",
    "    df = pd.read_excel(\"copom_dates.xlsx\")\n",
    "\n",
    "    #Converting pdf to string\n",
    "    col_minutes = []\n",
    "    for minute in ls_pdf:\n",
    "        minute_number = int(minute[:-4].split(\"Minutes \", 1)[1])\n",
    "        path_minute = './pdf/teste/'+ minute\n",
    "        doc = fitz.open(path_minute)\n",
    "        text = \"\"\n",
    "        for page in doc:\n",
    "            text += page.get_text()\n",
    "\n",
    "        #Saving raw content into .txt\n",
    "        text_file = open(\"raw_data.txt\", \"w\")\n",
    "        n = text_file.write(text.split(\"1. \",1)[1])\n",
    "        text_file.close()\n",
    "\n",
    "        #Deleting subheadings\n",
    "        with open(\"raw_data.txt\", \"r\") as file:\n",
    "            mystring = file.readlines()\n",
    "            for i, line in enumerate(mystring):\n",
    "                for pattern in heading_ls:\n",
    "                    if pattern in line:\n",
    "                        mystring[i] = line.replace(pattern,\"\")\n",
    "            text_2 = \"\".join(mystring)\n",
    "\n",
    "            #Save each minute as a row in a dataframe (copom dates)\n",
    "            col_minutes.append(text_2)\n",
    "\n",
    "    # Save df as a pickle\n",
    "    df['minutes'] = col_minutes\n",
    "    df.to_pickle(\"./minutes.pkl\") "
   ]
  },
  {
   "cell_type": "code",
   "execution_count": 3,
   "metadata": {},
   "outputs": [
    {
     "ename": "IndexError",
     "evalue": "list index out of range",
     "output_type": "error",
     "traceback": [
      "\u001b[1;31m---------------------------------------------------------------------------\u001b[0m",
      "\u001b[1;31mIndexError\u001b[0m                                Traceback (most recent call last)",
      "\u001b[1;32m~\\AppData\\Local\\Temp\\ipykernel_2244\\1826860067.py\u001b[0m in \u001b[0;36m<module>\u001b[1;34m\u001b[0m\n\u001b[0;32m      2\u001b[0m                         \u001b[1;34m'B) Scenarios and risk analysis '\u001b[0m\u001b[1;33m,\u001b[0m\u001b[1;33m\u001b[0m\u001b[1;33m\u001b[0m\u001b[0m\n\u001b[0;32m      3\u001b[0m                         \u001b[1;34m'C) Discussion about the conduct of monetary policy '\u001b[0m\u001b[1;33m,\u001b[0m\u001b[1;33m\u001b[0m\u001b[1;33m\u001b[0m\u001b[0m\n\u001b[1;32m----> 4\u001b[1;33m                         'D) Monetary policy decision ', 'bcb.gov.br'])\n\u001b[0m",
      "\u001b[1;32m~\\AppData\\Local\\Temp\\ipykernel_2244\\998073420.py\u001b[0m in \u001b[0;36mconvertpdf2text\u001b[1;34m(heading_ls)\u001b[0m\n\u001b[0;32m     22\u001b[0m         \u001b[1;31m#Saving raw content into .txt\u001b[0m\u001b[1;33m\u001b[0m\u001b[1;33m\u001b[0m\u001b[1;33m\u001b[0m\u001b[0m\n\u001b[0;32m     23\u001b[0m         \u001b[0mtext_file\u001b[0m \u001b[1;33m=\u001b[0m \u001b[0mopen\u001b[0m\u001b[1;33m(\u001b[0m\u001b[1;34m\"raw_data.txt\"\u001b[0m\u001b[1;33m,\u001b[0m \u001b[1;34m\"w\"\u001b[0m\u001b[1;33m)\u001b[0m\u001b[1;33m\u001b[0m\u001b[1;33m\u001b[0m\u001b[0m\n\u001b[1;32m---> 24\u001b[1;33m         \u001b[0mn\u001b[0m \u001b[1;33m=\u001b[0m \u001b[0mtext_file\u001b[0m\u001b[1;33m.\u001b[0m\u001b[0mwrite\u001b[0m\u001b[1;33m(\u001b[0m\u001b[0mtext\u001b[0m\u001b[1;33m.\u001b[0m\u001b[0msplit\u001b[0m\u001b[1;33m(\u001b[0m\u001b[1;34m\"1. \"\u001b[0m\u001b[1;33m,\u001b[0m\u001b[1;36m1\u001b[0m\u001b[1;33m)\u001b[0m\u001b[1;33m[\u001b[0m\u001b[1;36m1\u001b[0m\u001b[1;33m]\u001b[0m\u001b[1;33m)\u001b[0m\u001b[1;33m\u001b[0m\u001b[1;33m\u001b[0m\u001b[0m\n\u001b[0m\u001b[0;32m     25\u001b[0m         \u001b[0mtext_file\u001b[0m\u001b[1;33m.\u001b[0m\u001b[0mclose\u001b[0m\u001b[1;33m(\u001b[0m\u001b[1;33m)\u001b[0m\u001b[1;33m\u001b[0m\u001b[1;33m\u001b[0m\u001b[0m\n\u001b[0;32m     26\u001b[0m \u001b[1;33m\u001b[0m\u001b[0m\n",
      "\u001b[1;31mIndexError\u001b[0m: list index out of range"
     ]
    }
   ],
   "source": [
    "convertpdf2text(heading_ls=['A) Update of economic outlook and Copom’s scenario',\n",
    "                        'B) Scenarios and risk analysis ',\n",
    "                        'C) Discussion about the conduct of monetary policy ', \n",
    "                        'D) Monetary policy decision ', 'bcb.gov.br'])"
   ]
  }
 ],
 "metadata": {
  "kernelspec": {
   "display_name": "base",
   "language": "python",
   "name": "python3"
  },
  "language_info": {
   "codemirror_mode": {
    "name": "ipython",
    "version": 3
   },
   "file_extension": ".py",
   "mimetype": "text/x-python",
   "name": "python",
   "nbconvert_exporter": "python",
   "pygments_lexer": "ipython3",
   "version": "3.7.6"
  },
  "orig_nbformat": 4,
  "vscode": {
   "interpreter": {
    "hash": "e3eb86e430a5509920f3453e77c50f3391ea3767bdb44dcc3e78c42ca90283f8"
   }
  }
 },
 "nbformat": 4,
 "nbformat_minor": 2
}
