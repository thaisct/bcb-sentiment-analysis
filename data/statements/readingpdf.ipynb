{
 "cells": [
  {
   "cell_type": "code",
   "execution_count": 1,
   "metadata": {},
   "outputs": [],
   "source": [
    "import os\n",
    "import pandas as pd\n",
    "import fitz"
   ]
  },
  {
   "cell_type": "code",
   "execution_count": 10,
   "metadata": {},
   "outputs": [],
   "source": [
    "def convertpdf2text(heading_ls):\n",
    "\n",
    "    \"\"\"\n",
    "    Generates a .txt file relatively cleaned for each minute\n",
    "\n",
    "    \"\"\"\n",
    "    \n",
    "    ls_pdf = os.listdir('./pdf/teste') # Change path when doing the real script\n",
    "\n",
    "    #Converting pdf to string\n",
    "    for minute in ls_pdf:\n",
    "        path_minute = './pdf/teste/'+minute\n",
    "        doc = fitz.open(path_minute)\n",
    "        text = \"\"\n",
    "        for page in doc:\n",
    "            text += page.get_text()\n",
    "\n",
    "        #Saving raw content into .txt\n",
    "        text_file = open(\"raw_data.txt\", \"w\")\n",
    "        n = text_file.write(text.split(\"1. \",1)[1])\n",
    "        text_file.close()\n",
    "\n",
    "        #Deleting subheadings\n",
    "        with open(\"raw_data.txt\", \"r\") as file:\n",
    "            mystring = file.readlines()\n",
    "            for i, line in enumerate(mystring):\n",
    "                for pattern in heading_ls:\n",
    "                    if pattern in line:\n",
    "                        mystring[i] = line.replace(pattern,\"\")\n",
    "            text_2 = \"\".join(mystring)\n",
    "\n",
    "            #Saving content into .txt\n",
    "            name_file = minute + \".txt\"\n",
    "            text_file = open(name_file, \"w\")\n",
    "            n = text_file.write(text_2.split(\"1. \", 1)[1])\n",
    "            text_file.close()\n",
    "\n",
    "            #Converting .txt into csv\n",
    "            # read_file = pd.read_csv (r'data.txt')\n",
    "            # csv_name = minute+'.csv'\n",
    "            # read_file.to_csv(csv_name, index=None)"
   ]
  },
  {
   "cell_type": "code",
   "execution_count": 11,
   "metadata": {},
   "outputs": [],
   "source": [
    "convertpdf2text(heading_ls=['A) Update of economic outlook and Copom’s scenario',\n",
    "                        'B) Scenarios and risk analysis ',\n",
    "                        'C) Discussion about the conduct of monetary policy ', \n",
    "                        'D) Monetary policy decision ', 'bcb.gov.br'])"
   ]
  }
 ],
 "metadata": {
  "kernelspec": {
   "display_name": "base",
   "language": "python",
   "name": "python3"
  },
  "language_info": {
   "codemirror_mode": {
    "name": "ipython",
    "version": 3
   },
   "file_extension": ".py",
   "mimetype": "text/x-python",
   "name": "python",
   "nbconvert_exporter": "python",
   "pygments_lexer": "ipython3",
   "version": "3.7.6"
  },
  "orig_nbformat": 4,
  "vscode": {
   "interpreter": {
    "hash": "e3eb86e430a5509920f3453e77c50f3391ea3767bdb44dcc3e78c42ca90283f8"
   }
  }
 },
 "nbformat": 4,
 "nbformat_minor": 2
}
