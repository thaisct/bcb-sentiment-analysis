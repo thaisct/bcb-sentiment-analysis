{
 "cells": [
  {
   "cell_type": "code",
   "execution_count": 179,
   "metadata": {},
   "outputs": [],
   "source": [
    "import os\n",
    "os.chdir(\"C:\\\\Users\\\\Thais\\\\Documents\\\\Python\\\\bcb-sentiment-analysis\")\n",
    "\n",
    "import datetime \n",
    "\n",
    "import pandas as pd\n",
    "import numpy as np\n",
    "from pandas.tseries.offsets import BDay\n",
    "import scipy as sc\n",
    "import statsmodels.api as sm\n",
    "import pickle\n",
    "\n",
    "DAILY_DATA = \".\\\\data\\\\financial data\\\\daily.xlsx\"\n",
    "MINUTES_DATA = \".\\\\data\\\\minutes\\\\copom_dates.xlsx\"\n",
    "MINUTES_SCORE = \".\\\\data\\\\minutes\\\\minutes_scores_uncased_20230423.pkl\"\n",
    "TARGET_INFLATION_DATA = \".\\\\data\\\\financial data\\\\historico_meta_inflacao.xlsx\"\n",
    "\n",
    "last_date = datetime.datetime(2023, 4, 11)"
   ]
  },
  {
   "attachments": {},
   "cell_type": "markdown",
   "metadata": {},
   "source": [
    "# 1 - Processing Data"
   ]
  },
  {
   "attachments": {},
   "cell_type": "markdown",
   "metadata": {},
   "source": [
    "### 1.1 Calculating Daily Historical Volatility"
   ]
  },
  {
   "cell_type": "code",
   "execution_count": 2,
   "metadata": {},
   "outputs": [],
   "source": [
    "col_headers = [\"21D\",\"42D\",\"63D\",\"84D\",\"105D\",\"126D\",\"147D\",\"168D\",\"189D\",\"210D\",\"231D\",\"252D\",\"273D\",\"294D\",\"504D\",\"756D\",\"1260D\",\"1512D\",\"1764D\",\"2016D\",\"2268D\",\"2520D\",\"2772D\"]\n",
    "daily_di = pd.read_excel(DAILY_DATA, sheet_name='daily_di', skiprows=5).set_index('Dates')\n",
    "daily_di.columns = col_headers"
   ]
  },
  {
   "cell_type": "code",
   "execution_count": 3,
   "metadata": {},
   "outputs": [],
   "source": [
    "# compute volatility using Pandas rolling and std methods, the trading days is set to 252 days\n",
    "TRADING_DAYS = 252\n",
    "returns = np.log(daily_di/daily_di.shift(1))\n",
    "returns.fillna(0, inplace=True)\n",
    "volatility_2D = returns.rolling(window=2).std()*np.sqrt(TRADING_DAYS)\n",
    "volatility_1W = returns.rolling(window=5).std()*np.sqrt(TRADING_DAYS)\n",
    "volatility_1M = returns.rolling(window=22).std()*np.sqrt(TRADING_DAYS)\n",
    "volatility_6M = returns.rolling(window=126).std()*np.sqrt(TRADING_DAYS)\n",
    "volatility_12M = returns.rolling(window=TRADING_DAYS).std()*np.sqrt(TRADING_DAYS)"
   ]
  },
  {
   "attachments": {},
   "cell_type": "markdown",
   "metadata": {},
   "source": [
    "### 1.2 - IPCA series"
   ]
  },
  {
   "cell_type": "code",
   "execution_count": 9,
   "metadata": {},
   "outputs": [],
   "source": [
    "#Diário\n",
    "ipca_yoy_desv_centro = pd.read_excel(TARGET_INFLATION_DATA, sheet_name='ipca_yoy_ano_corrente').set_index('date')[['desvio_centro_perc']]\n",
    "ipca_yoy_desv_interv = pd.read_excel(TARGET_INFLATION_DATA, sheet_name='ipca_yoy_ano_corrente').set_index('date')[['desvio_intervalo_perc']]\n",
    "\n",
    "#Dias que saiu IPCA\n",
    "ipca_mom_desv_expect = pd.read_excel(TARGET_INFLATION_DATA, sheet_name='ipca_mom_ano_corrente').set_index('date')[['desvio_expectativa_perc']]\n",
    "\n",
    "#Diário\n",
    "ipca_hpm_desv_centro = pd.read_excel(TARGET_INFLATION_DATA, sheet_name='ipca_horizonte_PM').set_index('date')[['desvio_centro_perc']]\n",
    "ipca_hpm_desv_interv = pd.read_excel(TARGET_INFLATION_DATA, sheet_name='ipca_horizonte_PM').set_index('date')[['desvio_intervalo_perc']]\n"
   ]
  },
  {
   "attachments": {},
   "cell_type": "markdown",
   "metadata": {},
   "source": [
    "### 1.3 - SELIC Surprise"
   ]
  },
  {
   "cell_type": "code",
   "execution_count": 213,
   "metadata": {},
   "outputs": [],
   "source": [
    "selic_raw = pd.read_excel(MINUTES_DATA, sheet_name = 'Plan1').set_index('date')"
   ]
  },
  {
   "cell_type": "code",
   "execution_count": 194,
   "metadata": {},
   "outputs": [],
   "source": [
    "selic_surprise_v = selic_raw[['decision_date','selic_surprise_v']].reset_index().set_index('decision_date').drop(columns = ['date'])\n",
    "selic_surprise_d = selic_raw[['decision_date','selic_surprise_d']].reset_index().set_index('decision_date').drop(columns = ['date'])\n",
    "selic_frd = selic_raw[['decision_date','frd_guidance']].reset_index().set_index('decision_date').drop(columns = ['date'])"
   ]
  },
  {
   "cell_type": "code",
   "execution_count": 217,
   "metadata": {},
   "outputs": [],
   "source": [
    "d_ata = pd.read_excel(MINUTES_DATA, sheet_name = 'd_ata').set_index('date')\n",
    "d_ato = pd.read_excel(MINUTES_DATA, sheet_name = 'd_ato').set_index('date')"
   ]
  },
  {
   "attachments": {},
   "cell_type": "markdown",
   "metadata": {},
   "source": [
    "### 1.4 Minutes score"
   ]
  },
  {
   "cell_type": "code",
   "execution_count": 18,
   "metadata": {},
   "outputs": [],
   "source": [
    "minute_score = pd.read_pickle(MINUTES_SCORE).reset_index().set_index('date')[['score']]"
   ]
  },
  {
   "attachments": {},
   "cell_type": "markdown",
   "metadata": {},
   "source": [
    "### 1.5 - Indicador de Condições Financeiras"
   ]
  },
  {
   "cell_type": "code",
   "execution_count": 24,
   "metadata": {},
   "outputs": [],
   "source": [
    "col_headers = [\"GSBRFCI Index\",\"BZFCIBBC Index\",\"BZPIIPCM Index\",\"BZPIIPCY Index\",\"BCOIEYOY Index\",\"BCOITYOY Index\",\"BCOIEMOM Index\",\"BCOITMOM Index\",\"BBNCEEX1 Index\",\"BBNCP55 Index\",\"BBNCEXX2 Index\"]\n",
    "fci = pd.read_excel(DAILY_DATA, sheet_name='FCI_CPI', skiprows=6).set_index('Dates')\n",
    "fci.columns = col_headers\n",
    "fci_s = fci[['GSBRFCI Index']]\n",
    "ipca_yoy_desv_centro"
   ]
  },
  {
   "attachments": {},
   "cell_type": "markdown",
   "metadata": {},
   "source": [
    "# 2 - Joining all in one dataframe"
   ]
  },
  {
   "attachments": {},
   "cell_type": "markdown",
   "metadata": {},
   "source": [
    "### Independent Variables"
   ]
  },
  {
   "cell_type": "code",
   "execution_count": 219,
   "metadata": {},
   "outputs": [],
   "source": [
    "ls_df = [fci_s, minute_score, selic_frd, selic_surprise_v,selic_surprise_d, ipca_mom_desv_expect,\n",
    "        ipca_yoy_desv_interv, ipca_yoy_desv_centro, ipca_hpm_desv_interv, ipca_hpm_desv_centro, d_ata, d_ato]\n",
    "\n",
    "start_date = datetime.datetime(2001, 11, 9) #inicio de alguma série\n",
    "end_date = datetime.datetime(2022, 12, 13) #última ata\n",
    "\n",
    "new_ls_df = []\n",
    "for df in ls_df:\n",
    "    df.index.name = 'date'\n",
    "    temp = df.resample('D').ffill()#.shift(n_days, freq='D')\n",
    "    \n",
    "    df_filtered = temp[(temp.index >= start_date) & (temp.index <= end_date)]\n",
    "\n",
    "    new_ls_df.append(df_filtered)\n",
    "\n",
    "df_independent = pd.concat(new_ls_df, axis = 1)\n",
    "\n",
    "df_independent.columns = ['FCI', 'minutes_score', 'frd_guidance','selic_surprise_v', 'selic_surprise_d', 'desvio_expectativa_perc',\n",
    "                           'desvio_intervalo_perc','desvio_centro_perc', 'desvio_intervalo_hpm_perc', \n",
    "                           'desvio_centro_hpm_perc', 'd_ata', 'd_ato']\n",
    "\n",
    "df_independent = df_independent.fillna(method='ffill')\n",
    "df_independent = df_independent.fillna(method='bfill')"
   ]
  },
  {
   "attachments": {},
   "cell_type": "markdown",
   "metadata": {},
   "source": [
    "### Dependent Variable"
   ]
  },
  {
   "cell_type": "code",
   "execution_count": 176,
   "metadata": {},
   "outputs": [],
   "source": [
    "df_vol = volatility_2D.resample('D').ffill() \n",
    "df_dependent = df_vol[(df_vol.index >= start_date) & (df_vol.index <= end_date)]"
   ]
  },
  {
   "attachments": {},
   "cell_type": "markdown",
   "metadata": {},
   "source": [
    "# 3 - Regressions"
   ]
  },
  {
   "attachments": {},
   "cell_type": "markdown",
   "metadata": {},
   "source": [
    "## 3.1 - Sem controles"
   ]
  },
  {
   "attachments": {},
   "cell_type": "markdown",
   "metadata": {},
   "source": [
    "### 3.1.1 - vol_di = NLP + D_decisão + D_ata + Selic Surprise"
   ]
  },
  {
   "cell_type": "code",
   "execution_count": null,
   "metadata": {},
   "outputs": [],
   "source": [
    "#Para cada vértice"
   ]
  },
  {
   "cell_type": "code",
   "execution_count": 225,
   "metadata": {},
   "outputs": [
    {
     "name": "stderr",
     "output_type": "stream",
     "text": [
      "c:\\Users\\Thais\\anaconda3\\lib\\site-packages\\statsmodels\\tsa\\tsatools.py:142: FutureWarning: In a future version of pandas all arguments of concat except for the argument 'objs' will be keyword-only\n",
      "  x = pd.concat(x[::order], 1)\n"
     ]
    },
    {
     "data": {
      "text/html": [
       "<div>\n",
       "<style scoped>\n",
       "    .dataframe tbody tr th:only-of-type {\n",
       "        vertical-align: middle;\n",
       "    }\n",
       "\n",
       "    .dataframe tbody tr th {\n",
       "        vertical-align: top;\n",
       "    }\n",
       "\n",
       "    .dataframe thead th {\n",
       "        text-align: right;\n",
       "    }\n",
       "</style>\n",
       "<table border=\"1\" class=\"dataframe\">\n",
       "  <thead>\n",
       "    <tr style=\"text-align: right;\">\n",
       "      <th></th>\n",
       "      <th>variable</th>\n",
       "      <th>p-value</th>\n",
       "    </tr>\n",
       "  </thead>\n",
       "  <tbody>\n",
       "    <tr>\n",
       "      <th>0</th>\n",
       "      <td>const</td>\n",
       "      <td>5.125085e-14</td>\n",
       "    </tr>\n",
       "    <tr>\n",
       "      <th>1</th>\n",
       "      <td>minutes_score</td>\n",
       "      <td>2.650842e-02</td>\n",
       "    </tr>\n",
       "    <tr>\n",
       "      <th>2</th>\n",
       "      <td>selic_surprise_v</td>\n",
       "      <td>4.705338e-02</td>\n",
       "    </tr>\n",
       "    <tr>\n",
       "      <th>3</th>\n",
       "      <td>d_ato</td>\n",
       "      <td>8.995746e-01</td>\n",
       "    </tr>\n",
       "    <tr>\n",
       "      <th>4</th>\n",
       "      <td>d_ata</td>\n",
       "      <td>6.858036e-01</td>\n",
       "    </tr>\n",
       "  </tbody>\n",
       "</table>\n",
       "</div>"
      ],
      "text/plain": [
       "           variable       p-value\n",
       "0             const  5.125085e-14\n",
       "1     minutes_score  2.650842e-02\n",
       "2  selic_surprise_v  4.705338e-02\n",
       "3             d_ato  8.995746e-01\n",
       "4             d_ata  6.858036e-01"
      ]
     },
     "execution_count": 225,
     "metadata": {},
     "output_type": "execute_result"
    }
   ],
   "source": [
    "# define your dependent variable\n",
    "y = df_dependent['42D']\n",
    "\n",
    "# define your independent variables\n",
    "x1 = df_independent['minutes_score']\n",
    "x2 = df_independent['selic_surprise_v']\n",
    "x3 = df_independent['d_ato']\n",
    "x4 = df_independent['d_ata']\n",
    "\n",
    "# create a matrix of your independent variables\n",
    "X = sm.add_constant(pd.concat([x1, x2, x3, x4], axis=1))\n",
    "\n",
    "# create the OLS model and fit it to your data\n",
    "model = sm.OLS(y, X).fit()\n",
    "\n",
    "# obtain a summary table in a structured format\n",
    "summary_table = model.summary2()\n",
    "\n",
    "# extract the p-values column from the table\n",
    "p_values = summary_table.tables[1]['P>|t|']\n",
    "\n",
    "# create a pandas dataframe to store the p-values\n",
    "p_values_df = pd.DataFrame({'variable': p_values.index, 'p-value': p_values.values})\n"
   ]
  },
  {
   "cell_type": "code",
   "execution_count": 222,
   "metadata": {},
   "outputs": [
    {
     "data": {
      "text/html": [
       "<div>\n",
       "<style scoped>\n",
       "    .dataframe tbody tr th:only-of-type {\n",
       "        vertical-align: middle;\n",
       "    }\n",
       "\n",
       "    .dataframe tbody tr th {\n",
       "        vertical-align: top;\n",
       "    }\n",
       "\n",
       "    .dataframe thead th {\n",
       "        text-align: right;\n",
       "    }\n",
       "</style>\n",
       "<table border=\"1\" class=\"dataframe\">\n",
       "  <thead>\n",
       "    <tr style=\"text-align: right;\">\n",
       "      <th></th>\n",
       "      <th>variable</th>\n",
       "      <th>p-value</th>\n",
       "    </tr>\n",
       "  </thead>\n",
       "  <tbody>\n",
       "    <tr>\n",
       "      <th>0</th>\n",
       "      <td>const</td>\n",
       "      <td>2.417319e-14</td>\n",
       "    </tr>\n",
       "    <tr>\n",
       "      <th>1</th>\n",
       "      <td>minutes_score</td>\n",
       "      <td>2.592174e-02</td>\n",
       "    </tr>\n",
       "    <tr>\n",
       "      <th>2</th>\n",
       "      <td>selic_surprise_v</td>\n",
       "      <td>1.131844e-01</td>\n",
       "    </tr>\n",
       "    <tr>\n",
       "      <th>3</th>\n",
       "      <td>d_ato</td>\n",
       "      <td>9.523867e-01</td>\n",
       "    </tr>\n",
       "    <tr>\n",
       "      <th>4</th>\n",
       "      <td>d_ata</td>\n",
       "      <td>7.663611e-01</td>\n",
       "    </tr>\n",
       "  </tbody>\n",
       "</table>\n",
       "</div>"
      ],
      "text/plain": [
       "           variable       p-value\n",
       "0             const  2.417319e-14\n",
       "1     minutes_score  2.592174e-02\n",
       "2  selic_surprise_v  1.131844e-01\n",
       "3             d_ato  9.523867e-01\n",
       "4             d_ata  7.663611e-01"
      ]
     },
     "execution_count": 222,
     "metadata": {},
     "output_type": "execute_result"
    }
   ],
   "source": [
    "p_values_df"
   ]
  },
  {
   "attachments": {},
   "cell_type": "markdown",
   "metadata": {},
   "source": [
    "### 3.1.2 - vol_di = NLP + D_decisão + Selic Surprise"
   ]
  },
  {
   "cell_type": "code",
   "execution_count": null,
   "metadata": {},
   "outputs": [],
   "source": [
    "#Para cada vértice"
   ]
  },
  {
   "attachments": {},
   "cell_type": "markdown",
   "metadata": {},
   "source": [
    "### 3.1.3 - vol_di = NLP + D_ata + Selic Surprise"
   ]
  },
  {
   "cell_type": "code",
   "execution_count": null,
   "metadata": {},
   "outputs": [],
   "source": [
    "#Para cada vértice"
   ]
  },
  {
   "attachments": {},
   "cell_type": "markdown",
   "metadata": {},
   "source": [
    "## 3.2 - Com controles"
   ]
  }
 ],
 "metadata": {
  "kernelspec": {
   "display_name": "base",
   "language": "python",
   "name": "python3"
  },
  "language_info": {
   "codemirror_mode": {
    "name": "ipython",
    "version": 3
   },
   "file_extension": ".py",
   "mimetype": "text/x-python",
   "name": "python",
   "nbconvert_exporter": "python",
   "pygments_lexer": "ipython3",
   "version": "3.7.6"
  },
  "orig_nbformat": 4
 },
 "nbformat": 4,
 "nbformat_minor": 2
}
