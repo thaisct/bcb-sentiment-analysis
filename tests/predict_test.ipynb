{
 "cells": [
  {
   "attachments": {},
   "cell_type": "markdown",
   "metadata": {},
   "source": [
    "Assessing one minute"
   ]
  },
  {
   "cell_type": "code",
   "execution_count": 1,
   "metadata": {},
   "outputs": [
    {
     "name": "stderr",
     "output_type": "stream",
     "text": [
      "05/31/2023 20:44:45 - INFO - filelock -   Lock 2264397850568 acquired on C:\\Users\\Thais/.cache\\huggingface\\hub\\models--bert-base-uncased\\blobs\\a661b1a138dac6dc5590367402d100765010ffd6.lock\n"
     ]
    },
    {
     "data": {
      "application/vnd.jupyter.widget-view+json": {
       "model_id": "fad5aee50c6d4f92b3af2cb32fd6b3d8",
       "version_major": 2,
       "version_minor": 0
      },
      "text/plain": [
       "Downloading:   0%|          | 0.00/28.0 [00:00<?, ?B/s]"
      ]
     },
     "metadata": {},
     "output_type": "display_data"
    },
    {
     "name": "stderr",
     "output_type": "stream",
     "text": [
      "05/31/2023 20:44:46 - INFO - filelock -   Lock 2264397850568 released on C:\\Users\\Thais/.cache\\huggingface\\hub\\models--bert-base-uncased\\blobs\\a661b1a138dac6dc5590367402d100765010ffd6.lock\n",
      "05/31/2023 20:44:47 - INFO - filelock -   Lock 2264403520008 acquired on C:\\Users\\Thais/.cache\\huggingface\\hub\\models--bert-base-uncased\\blobs\\45a2321a7ecfdaaf60a6c1fd7f5463994cc8907d.lock\n"
     ]
    },
    {
     "data": {
      "application/vnd.jupyter.widget-view+json": {
       "model_id": "5a21998e1e8541d69b3cc4325d7e2d28",
       "version_major": 2,
       "version_minor": 0
      },
      "text/plain": [
       "Downloading:   0%|          | 0.00/570 [00:00<?, ?B/s]"
      ]
     },
     "metadata": {},
     "output_type": "display_data"
    },
    {
     "name": "stderr",
     "output_type": "stream",
     "text": [
      "05/31/2023 20:44:48 - INFO - filelock -   Lock 2264403520008 released on C:\\Users\\Thais/.cache\\huggingface\\hub\\models--bert-base-uncased\\blobs\\45a2321a7ecfdaaf60a6c1fd7f5463994cc8907d.lock\n",
      "05/31/2023 20:44:48 - INFO - filelock -   Lock 2264403609480 acquired on C:\\Users\\Thais/.cache\\huggingface\\hub\\models--bert-base-uncased\\blobs\\fb140275c155a9c7c5a3b3e0e77a9e839594a938.lock\n"
     ]
    },
    {
     "data": {
      "application/vnd.jupyter.widget-view+json": {
       "model_id": "0a5a47af754046c0b8087204062c38bb",
       "version_major": 2,
       "version_minor": 0
      },
      "text/plain": [
       "Downloading:   0%|          | 0.00/232k [00:00<?, ?B/s]"
      ]
     },
     "metadata": {},
     "output_type": "display_data"
    },
    {
     "name": "stderr",
     "output_type": "stream",
     "text": [
      "05/31/2023 20:44:49 - INFO - filelock -   Lock 2264403609480 released on C:\\Users\\Thais/.cache\\huggingface\\hub\\models--bert-base-uncased\\blobs\\fb140275c155a9c7c5a3b3e0e77a9e839594a938.lock\n",
      "05/31/2023 20:44:49 - INFO - filelock -   Lock 2263883030600 acquired on C:\\Users\\Thais/.cache\\huggingface\\hub\\models--bert-base-uncased\\blobs\\949a6f013d67eb8a5b4b5b46026217b888021b88.lock\n"
     ]
    },
    {
     "data": {
      "application/vnd.jupyter.widget-view+json": {
       "model_id": "55267eb947674399afd8418ab17149ea",
       "version_major": 2,
       "version_minor": 0
      },
      "text/plain": [
       "Downloading:   0%|          | 0.00/466k [00:00<?, ?B/s]"
      ]
     },
     "metadata": {},
     "output_type": "display_data"
    },
    {
     "name": "stderr",
     "output_type": "stream",
     "text": [
      "05/31/2023 20:44:50 - INFO - filelock -   Lock 2263883030600 released on C:\\Users\\Thais/.cache\\huggingface\\hub\\models--bert-base-uncased\\blobs\\949a6f013d67eb8a5b4b5b46026217b888021b88.lock\n",
      "[nltk_data] Downloading package punkt to\n",
      "[nltk_data]     C:\\Users\\Thais\\AppData\\Roaming\\nltk_data...\n",
      "[nltk_data]   Package punkt is already up-to-date!\n"
     ]
    }
   ],
   "source": [
    "import warnings\n",
    "warnings.filterwarnings(\"ignore\")\n",
    "import shutil\n",
    "import os\n",
    "import logging\n",
    "import sys\n",
    "sys.path.append(\"..\")\n",
    "\n",
    "import seaborn as sns\n",
    "import pandas as pd\n",
    "import matplotlib.pyplot as plt\n",
    "\n",
    "from pathlib import Path\n",
    "\n",
    "from transformers import AutoModelForSequenceClassification, AutoTokenizer\n",
    "from finbert.finbert import *\n",
    "import finbert.utils as tools\n",
    "\n",
    "import nltk \n",
    "nltk.download(\"punkt\")\n",
    "\n",
    "%load_ext autoreload\n",
    "%autoreload 2\n",
    "\n",
    "project_dir = Path.cwd().parent\n",
    "pd.set_option('max_colwidth', None)\n",
    "\n",
    "logging.basicConfig(format = '%(asctime)s - %(levelname)s - %(name)s -   %(message)s',\n",
    "                    datefmt = '%m/%d/%Y %H:%M:%S',\n",
    "                    level = logging.ERROR)"
   ]
  },
  {
   "cell_type": "code",
   "execution_count": 2,
   "metadata": {},
   "outputs": [],
   "source": [
    "lm_path = 'models/language_model/finbertTRC2'\n",
    "cl_path = 'models/classifier_model/finbert-sentiment'\n",
    "cl_data_path = 'data/sentiment_data'"
   ]
  },
  {
   "attachments": {},
   "cell_type": "markdown",
   "metadata": {},
   "source": [
    "Modelo"
   ]
  },
  {
   "cell_type": "code",
   "execution_count": 3,
   "metadata": {},
   "outputs": [
    {
     "name": "stderr",
     "output_type": "stream",
     "text": [
      "05/31/2023 20:45:08 - INFO - filelock -   Lock 2264420589448 acquired on C:\\Users\\Thais/.cache\\huggingface\\hub\\models--ProsusAI--finbert\\blobs\\cd79adc84d3c96daa03456853766c63141aef734.lock\n"
     ]
    },
    {
     "data": {
      "application/vnd.jupyter.widget-view+json": {
       "model_id": "48c201b2eb8745f8a6203b3ed4689000",
       "version_major": 2,
       "version_minor": 0
      },
      "text/plain": [
       "Downloading:   0%|          | 0.00/252 [00:00<?, ?B/s]"
      ]
     },
     "metadata": {},
     "output_type": "display_data"
    },
    {
     "name": "stderr",
     "output_type": "stream",
     "text": [
      "05/31/2023 20:45:09 - INFO - filelock -   Lock 2264420589448 released on C:\\Users\\Thais/.cache\\huggingface\\hub\\models--ProsusAI--finbert\\blobs\\cd79adc84d3c96daa03456853766c63141aef734.lock\n",
      "05/31/2023 20:45:09 - INFO - filelock -   Lock 2263883269384 acquired on C:\\Users\\Thais/.cache\\huggingface\\hub\\models--ProsusAI--finbert\\blobs\\e3d6323dc93e170f3eef66cebb32dbaf4589aee0.lock\n"
     ]
    },
    {
     "data": {
      "application/vnd.jupyter.widget-view+json": {
       "model_id": "328a2dac200d403882077394d4aaf056",
       "version_major": 2,
       "version_minor": 0
      },
      "text/plain": [
       "Downloading:   0%|          | 0.00/758 [00:00<?, ?B/s]"
      ]
     },
     "metadata": {},
     "output_type": "display_data"
    },
    {
     "name": "stderr",
     "output_type": "stream",
     "text": [
      "05/31/2023 20:45:09 - INFO - filelock -   Lock 2263883269384 released on C:\\Users\\Thais/.cache\\huggingface\\hub\\models--ProsusAI--finbert\\blobs\\e3d6323dc93e170f3eef66cebb32dbaf4589aee0.lock\n",
      "05/31/2023 20:45:10 - INFO - filelock -   Lock 2264420589064 acquired on C:\\Users\\Thais/.cache\\huggingface\\hub\\models--ProsusAI--finbert\\blobs\\fb140275c155a9c7c5a3b3e0e77a9e839594a938.lock\n"
     ]
    },
    {
     "data": {
      "application/vnd.jupyter.widget-view+json": {
       "model_id": "0c5c9b052b5c4edca2b659e3feef24bb",
       "version_major": 2,
       "version_minor": 0
      },
      "text/plain": [
       "Downloading:   0%|          | 0.00/232k [00:00<?, ?B/s]"
      ]
     },
     "metadata": {},
     "output_type": "display_data"
    },
    {
     "name": "stderr",
     "output_type": "stream",
     "text": [
      "05/31/2023 20:45:11 - INFO - filelock -   Lock 2264420589064 released on C:\\Users\\Thais/.cache\\huggingface\\hub\\models--ProsusAI--finbert\\blobs\\fb140275c155a9c7c5a3b3e0e77a9e839594a938.lock\n",
      "05/31/2023 20:45:12 - INFO - filelock -   Lock 2264421484616 acquired on C:\\Users\\Thais/.cache\\huggingface\\hub\\models--ProsusAI--finbert\\blobs\\e7b0375001f109a6b8873d756ad4f7bbb15fbaa5.lock\n"
     ]
    },
    {
     "data": {
      "application/vnd.jupyter.widget-view+json": {
       "model_id": "a93cfbb865f647abb225d62737e3560a",
       "version_major": 2,
       "version_minor": 0
      },
      "text/plain": [
       "Downloading:   0%|          | 0.00/112 [00:00<?, ?B/s]"
      ]
     },
     "metadata": {},
     "output_type": "display_data"
    },
    {
     "name": "stderr",
     "output_type": "stream",
     "text": [
      "05/31/2023 20:45:12 - INFO - filelock -   Lock 2264421484616 released on C:\\Users\\Thais/.cache\\huggingface\\hub\\models--ProsusAI--finbert\\blobs\\e7b0375001f109a6b8873d756ad4f7bbb15fbaa5.lock\n",
      "05/31/2023 20:45:15 - INFO - filelock -   Lock 2264422070984 acquired on C:\\Users\\Thais/.cache\\huggingface\\hub\\models--ProsusAI--finbert\\blobs\\e15a7b5738df7f17553399b6d94c6e2ff69c89245d066e8e5d183f5803a554e3.lock\n"
     ]
    },
    {
     "data": {
      "application/vnd.jupyter.widget-view+json": {
       "model_id": "b9d9afe1a03348bc9f6e114765676ac5",
       "version_major": 2,
       "version_minor": 0
      },
      "text/plain": [
       "Downloading:   0%|          | 0.00/438M [00:00<?, ?B/s]"
      ]
     },
     "metadata": {},
     "output_type": "display_data"
    },
    {
     "name": "stderr",
     "output_type": "stream",
     "text": [
      "05/31/2023 20:47:57 - INFO - filelock -   Lock 2264422070984 released on C:\\Users\\Thais/.cache\\huggingface\\hub\\models--ProsusAI--finbert\\blobs\\e15a7b5738df7f17553399b6d94c6e2ff69c89245d066e8e5d183f5803a554e3.lock\n"
     ]
    }
   ],
   "source": [
    "tokenizer = AutoTokenizer.from_pretrained('ProsusAI/finbert')\n",
    "model = AutoModelForSequenceClassification.from_pretrained('ProsusAI/finbert', output_attentions = True)\n",
    "label_list = ['positive', 'neutral', 'negative']"
   ]
  },
  {
   "attachments": {},
   "cell_type": "markdown",
   "metadata": {},
   "source": [
    "Texto Teste"
   ]
  },
  {
   "cell_type": "code",
   "execution_count": 9,
   "metadata": {},
   "outputs": [],
   "source": [
    "#Positive +Negative\n",
    "exert0 = \"\"\"After the reporting period , BioTie North American licensing partner Somaxon Pharmaceuticals announced positive results with nalmefene in a pilot Phase 2 clinical trial for smoking cessation.\n",
    "They will cover all Forest Industry's units and employees in Finland and concern temporary and permanent lay-offs.\n",
    "A few employees would remain at the Oulu plant in support functions for other group units\"\"\"\n",
    "\n",
    "#Positive\n",
    "exert1 = \"After the reporting period , BioTie North American licensing partner Somaxon Pharmaceuticals announced positive results with nalmefene in a pilot Phase 2 clinical trial for smoking cessation\"\n",
    "\n",
    "#Negative\n",
    "exert2 = \"They will cover all Forest Industry 's units and employees in Finland and concern temporary and permanent lay-offs\"\n",
    "\n",
    "#Neutral\n",
    "exert3 = \"A few employees would remain at the Oulu plant in support functions for other group units\" "
   ]
  },
  {
   "attachments": {},
   "cell_type": "markdown",
   "metadata": {},
   "source": [
    "Funções"
   ]
  },
  {
   "cell_type": "code",
   "execution_count": 5,
   "metadata": {},
   "outputs": [],
   "source": [
    "def get_split(text_input):\n",
    "\n",
    "    l_total = []\n",
    "    l_parcial = []\n",
    "\n",
    "    if len(text_input.split())//150 > 0:\n",
    "        n = len(text_input.split())//150\n",
    "    else:\n",
    "        n = 1\n",
    "    \n",
    "    for w in range(n):\n",
    "        if w == 0:\n",
    "            l_parcial = text_input.split()[:200]\n",
    "            l_total.append(\" \".join(l_parcial))\n",
    "        else:\n",
    "            l_parcial = text_input.split()[w*150:w*150 + 200]\n",
    "            l_total.append(\" \".join(l_parcial))\n",
    "    return l_total\n",
    "\n",
    "def change_range(df, min_v, max_v):\n",
    "    lst = []\n",
    "    for i in range(0, len(df)):\n",
    "        old_value = df[i]\n",
    "        old_min = min_v\n",
    "        old_max = max_v\n",
    "        new_min = 0\n",
    "        new_max = 1\n",
    "    \n",
    "        new_value = ((old_value - old_min) / (old_max - old_min)) * (new_max - new_min) + new_min\n",
    "        lst += [new_value]\n",
    "    \n",
    "    return lst  \n"
   ]
  },
  {
   "attachments": {},
   "cell_type": "markdown",
   "metadata": {},
   "source": [
    "Análise de Sentimento"
   ]
  },
  {
   "cell_type": "code",
   "execution_count": 10,
   "metadata": {},
   "outputs": [
    {
     "name": "stderr",
     "output_type": "stream",
     "text": [
      "05/31/2023 20:51:03 - INFO - root -   Using device: cpu \n",
      "05/31/2023 20:51:03 - INFO - finbert.utils -   *** Example ***\n",
      "05/31/2023 20:51:03 - INFO - finbert.utils -   guid: 0\n",
      "05/31/2023 20:51:03 - INFO - finbert.utils -   tokens: [CLS] after the reporting period , bio ##tie north american licensing partner so ##max ##on pharmaceuticals announced positive results with na ##lm ##efe ##ne in a pilot phase 2 clinical trial for smoking ce ##ssa ##tion . [SEP]\n",
      "05/31/2023 20:51:03 - INFO - finbert.utils -   input_ids: 101 2044 1996 7316 2558 1010 16012 9515 2167 2137 13202 4256 2061 17848 2239 24797 2623 3893 3463 2007 6583 13728 27235 2638 1999 1037 4405 4403 1016 6612 3979 2005 9422 8292 11488 3508 1012 102 0 0 0 0 0 0 0 0 0 0 0 0 0 0 0 0 0 0 0 0 0 0 0 0 0 0\n",
      "05/31/2023 20:51:03 - INFO - finbert.utils -   attention_mask: 1 1 1 1 1 1 1 1 1 1 1 1 1 1 1 1 1 1 1 1 1 1 1 1 1 1 1 1 1 1 1 1 1 1 1 1 1 1 0 0 0 0 0 0 0 0 0 0 0 0 0 0 0 0 0 0 0 0 0 0 0 0 0 0\n",
      "05/31/2023 20:51:03 - INFO - finbert.utils -   token_type_ids: 0 0 0 0 0 0 0 0 0 0 0 0 0 0 0 0 0 0 0 0 0 0 0 0 0 0 0 0 0 0 0 0 0 0 0 0 0 0 0 0 0 0 0 0 0 0 0 0 0 0 0 0 0 0 0 0 0 0 0 0 0 0 0 0\n",
      "05/31/2023 20:51:03 - INFO - finbert.utils -   label: None (id = 9090)\n",
      "05/31/2023 20:51:04 - INFO - root -   tensor([[ 2.0452, -2.0749, -1.0675]])\n",
      "05/31/2023 20:51:04 - INFO - root -   Using device: cpu \n",
      "05/31/2023 20:51:04 - INFO - finbert.utils -   *** Example ***\n",
      "05/31/2023 20:51:04 - INFO - finbert.utils -   guid: 0\n",
      "05/31/2023 20:51:04 - INFO - finbert.utils -   tokens: [CLS] they will cover all forest industry ' s units and employees in finland and concern temporary and permanent lay - offs . [SEP]\n",
      "05/31/2023 20:51:04 - INFO - finbert.utils -   input_ids: 101 2027 2097 3104 2035 3224 3068 1005 1055 3197 1998 5126 1999 6435 1998 5142 5741 1998 4568 3913 1011 12446 1012 102 0 0 0 0 0 0 0 0 0 0 0 0 0 0 0 0 0 0 0 0 0 0 0 0 0 0 0 0 0 0 0 0 0 0 0 0 0 0 0 0\n",
      "05/31/2023 20:51:04 - INFO - finbert.utils -   attention_mask: 1 1 1 1 1 1 1 1 1 1 1 1 1 1 1 1 1 1 1 1 1 1 1 1 0 0 0 0 0 0 0 0 0 0 0 0 0 0 0 0 0 0 0 0 0 0 0 0 0 0 0 0 0 0 0 0 0 0 0 0 0 0 0 0\n",
      "05/31/2023 20:51:04 - INFO - finbert.utils -   token_type_ids: 0 0 0 0 0 0 0 0 0 0 0 0 0 0 0 0 0 0 0 0 0 0 0 0 0 0 0 0 0 0 0 0 0 0 0 0 0 0 0 0 0 0 0 0 0 0 0 0 0 0 0 0 0 0 0 0 0 0 0 0 0 0 0 0\n",
      "05/31/2023 20:51:04 - INFO - finbert.utils -   label: None (id = 9090)\n",
      "05/31/2023 20:51:04 - INFO - root -   tensor([[-1.9939,  2.9497, -0.4490]])\n",
      "05/31/2023 20:51:04 - INFO - root -   Using device: cpu \n",
      "05/31/2023 20:51:04 - INFO - finbert.utils -   *** Example ***\n",
      "05/31/2023 20:51:04 - INFO - finbert.utils -   guid: 0\n",
      "05/31/2023 20:51:04 - INFO - finbert.utils -   tokens: [CLS] a few employees would remain at the ou ##lu plant in support functions for other group units [SEP]\n",
      "05/31/2023 20:51:04 - INFO - finbert.utils -   input_ids: 101 1037 2261 5126 2052 3961 2012 1996 15068 7630 3269 1999 2490 4972 2005 2060 2177 3197 102 0 0 0 0 0 0 0 0 0 0 0 0 0 0 0 0 0 0 0 0 0 0 0 0 0 0 0 0 0 0 0 0 0 0 0 0 0 0 0 0 0 0 0 0 0\n",
      "05/31/2023 20:51:04 - INFO - finbert.utils -   attention_mask: 1 1 1 1 1 1 1 1 1 1 1 1 1 1 1 1 1 1 1 0 0 0 0 0 0 0 0 0 0 0 0 0 0 0 0 0 0 0 0 0 0 0 0 0 0 0 0 0 0 0 0 0 0 0 0 0 0 0 0 0 0 0 0 0\n",
      "05/31/2023 20:51:04 - INFO - finbert.utils -   token_type_ids: 0 0 0 0 0 0 0 0 0 0 0 0 0 0 0 0 0 0 0 0 0 0 0 0 0 0 0 0 0 0 0 0 0 0 0 0 0 0 0 0 0 0 0 0 0 0 0 0 0 0 0 0 0 0 0 0 0 0 0 0 0 0 0 0\n",
      "05/31/2023 20:51:04 - INFO - finbert.utils -   label: None (id = 9090)\n",
      "05/31/2023 20:51:05 - INFO - root -   tensor([[-1.5733,  0.4978,  1.9569]])\n"
     ]
    }
   ],
   "source": [
    "teste = exert0\n",
    "\n",
    "textos = pd.DataFrame(teste.split('\\n'), columns = ['Text'])\n",
    "textos['Result'] = \"\"\n",
    "\n",
    "for d in range(0, len(textos['Text'])):\n",
    "    result = predict(textos['Text'][d], model)\n",
    "    result['prob_pos'] = result.logit.apply(lambda x:x[0])\n",
    "    textos['Result'][d] = result.prob_pos.mean() \n"
   ]
  },
  {
   "attachments": {},
   "cell_type": "markdown",
   "metadata": {},
   "source": [
    "Normalização e Análise"
   ]
  },
  {
   "cell_type": "code",
   "execution_count": 11,
   "metadata": {},
   "outputs": [
    {
     "data": {
      "text/html": [
       "<div>\n",
       "<style scoped>\n",
       "    .dataframe tbody tr th:only-of-type {\n",
       "        vertical-align: middle;\n",
       "    }\n",
       "\n",
       "    .dataframe tbody tr th {\n",
       "        vertical-align: top;\n",
       "    }\n",
       "\n",
       "    .dataframe thead th {\n",
       "        text-align: right;\n",
       "    }\n",
       "</style>\n",
       "<table border=\"1\" class=\"dataframe\">\n",
       "  <thead>\n",
       "    <tr style=\"text-align: right;\">\n",
       "      <th></th>\n",
       "      <th>Text</th>\n",
       "      <th>Result</th>\n",
       "    </tr>\n",
       "  </thead>\n",
       "  <tbody>\n",
       "    <tr>\n",
       "      <th>0</th>\n",
       "      <td>After the reporting period , BioTie North American licensing partner Somaxon Pharmaceuticals announced positive results with nalmefene in a pilot Phase 2 clinical trial for smoking cessation.</td>\n",
       "      <td>0.942753</td>\n",
       "    </tr>\n",
       "    <tr>\n",
       "      <th>1</th>\n",
       "      <td>They will cover all Forest Industry's units and employees in Finland and concern temporary and permanent lay-offs.</td>\n",
       "      <td>0.006851</td>\n",
       "    </tr>\n",
       "    <tr>\n",
       "      <th>2</th>\n",
       "      <td>A few employees would remain at the Oulu plant in support functions for other group units</td>\n",
       "      <td>0.023221</td>\n",
       "    </tr>\n",
       "  </tbody>\n",
       "</table>\n",
       "</div>"
      ],
      "text/plain": [
       "                                                                                                                                                                                              Text  \\\n",
       "0  After the reporting period , BioTie North American licensing partner Somaxon Pharmaceuticals announced positive results with nalmefene in a pilot Phase 2 clinical trial for smoking cessation.   \n",
       "1                                                                               They will cover all Forest Industry's units and employees in Finland and concern temporary and permanent lay-offs.   \n",
       "2                                                                                                        A few employees would remain at the Oulu plant in support functions for other group units   \n",
       "\n",
       "     Result  \n",
       "0  0.942753  \n",
       "1  0.006851  \n",
       "2  0.023221  "
      ]
     },
     "execution_count": 11,
     "metadata": {},
     "output_type": "execute_result"
    }
   ],
   "source": [
    "textos"
   ]
  },
  {
   "cell_type": "code",
   "execution_count": 16,
   "metadata": {},
   "outputs": [
    {
     "data": {
      "text/plain": [
       "50.0"
      ]
     },
     "execution_count": 16,
     "metadata": {},
     "output_type": "execute_result"
    }
   ],
   "source": [
    "min_v = textos['Result'].min()\n",
    "max_v = textos['Result'].max()\n",
    "textos['Scores_adj'] = np.array(change_range(textos['Result'], min_v, max_v))\n",
    "\n",
    "textos['Scores_adj'].mean()*100"
   ]
  }
 ],
 "metadata": {
  "kernelspec": {
   "display_name": "base",
   "language": "python",
   "name": "python3"
  },
  "language_info": {
   "codemirror_mode": {
    "name": "ipython",
    "version": 3
   },
   "file_extension": ".py",
   "mimetype": "text/x-python",
   "name": "python",
   "nbconvert_exporter": "python",
   "pygments_lexer": "ipython3",
   "version": "3.7.6"
  },
  "orig_nbformat": 4,
  "vscode": {
   "interpreter": {
    "hash": "e3eb86e430a5509920f3453e77c50f3391ea3767bdb44dcc3e78c42ca90283f8"
   }
  }
 },
 "nbformat": 4,
 "nbformat_minor": 2
}
