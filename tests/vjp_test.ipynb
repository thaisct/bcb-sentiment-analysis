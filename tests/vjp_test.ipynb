{
 "cells": [
  {
   "attachments": {},
   "cell_type": "markdown",
   "metadata": {},
   "source": [
    "Assessing one minute"
   ]
  },
  {
   "cell_type": "code",
   "execution_count": 4,
   "metadata": {},
   "outputs": [
    {
     "name": "stdout",
     "output_type": "stream",
     "text": [
      "The autoreload extension is already loaded. To reload it, use:\n",
      "  %reload_ext autoreload\n"
     ]
    },
    {
     "name": "stderr",
     "output_type": "stream",
     "text": [
      "[nltk_data] Downloading package punkt to\n",
      "[nltk_data]     C:\\Users\\Thais\\AppData\\Roaming\\nltk_data...\n",
      "[nltk_data]   Package punkt is already up-to-date!\n"
     ]
    }
   ],
   "source": [
    "import warnings\n",
    "warnings.filterwarnings(\"ignore\")\n",
    "import shutil\n",
    "import os\n",
    "import logging\n",
    "import sys\n",
    "sys.path.append(\"..\")\n",
    "\n",
    "import seaborn as sns\n",
    "import pandas as pd\n",
    "import matplotlib.pyplot as plt\n",
    "\n",
    "from pathlib import Path\n",
    "\n",
    "from transformers import AutoModelForSequenceClassification, AutoTokenizer\n",
    "from finbert.finbert import *\n",
    "import finbert.utils as tools\n",
    "\n",
    "import nltk \n",
    "nltk.download(\"punkt\")\n",
    "\n",
    "%load_ext autoreload\n",
    "%autoreload 2\n",
    "\n",
    "project_dir = Path.cwd().parent\n",
    "pd.set_option('max_colwidth', None)\n",
    "\n",
    "logging.basicConfig(format = '%(asctime)s - %(levelname)s - %(name)s -   %(message)s',\n",
    "                    datefmt = '%m/%d/%Y %H:%M:%S',\n",
    "                    level = logging.ERROR)"
   ]
  },
  {
   "cell_type": "code",
   "execution_count": 3,
   "metadata": {},
   "outputs": [],
   "source": [
    "lm_path = 'models/language_model/finbertTRC2'\n",
    "cl_path = 'models/classifier_model/finbert-sentiment'\n",
    "cl_data_path = 'data/sentiment_data'"
   ]
  },
  {
   "attachments": {},
   "cell_type": "markdown",
   "metadata": {},
   "source": [
    "Modelo"
   ]
  },
  {
   "cell_type": "code",
   "execution_count": 7,
   "metadata": {},
   "outputs": [
    {
     "name": "stderr",
     "output_type": "stream",
     "text": [
      "02/07/2023 22:05:14 - INFO - filelock -   Lock 2396499834248 acquired on C:\\Users\\Thais/.cache\\huggingface\\hub\\models--ProsusAI--finbert\\blobs\\e15a7b5738df7f17553399b6d94c6e2ff69c89245d066e8e5d183f5803a554e3.lock\n",
      "Downloading: 100%|██████████| 438M/438M [01:31<00:00, 4.80MB/s] \n",
      "02/07/2023 22:06:46 - INFO - filelock -   Lock 2396499834248 released on C:\\Users\\Thais/.cache\\huggingface\\hub\\models--ProsusAI--finbert\\blobs\\e15a7b5738df7f17553399b6d94c6e2ff69c89245d066e8e5d183f5803a554e3.lock\n"
     ]
    }
   ],
   "source": [
    "tokenizer = AutoTokenizer.from_pretrained('ProsusAI/finbert')\n",
    "model = AutoModelForSequenceClassification.from_pretrained('ProsusAI/finbert', output_attentions = True)\n",
    "label_list = ['positive', 'neutral', 'negative']"
   ]
  },
  {
   "attachments": {},
   "cell_type": "markdown",
   "metadata": {},
   "source": [
    "Texto Teste"
   ]
  },
  {
   "cell_type": "code",
   "execution_count": 17,
   "metadata": {},
   "outputs": [],
   "source": [
    "#Positive +Negative\n",
    "exert0 = \"\"\"After the reporting period , BioTie North American licensing partner Somaxon Pharmaceuticals announced positive results with nalmefene in a pilot Phase 2 clinical trial for smoking cessation\n",
    "\n",
    "            They will cover all Forest Industry's units and employees in Finland and concern temporary and permanent lay-offs\"\"\"\n",
    "\n",
    "#Positive\n",
    "exert1 = \"After the reporting period , BioTie North American licensing partner Somaxon Pharmaceuticals announced positive results with nalmefene in a pilot Phase 2 clinical trial for smoking cessation\"\n",
    "\n",
    "#Negative\n",
    "exert2 = \"They will cover all Forest Industry 's units and employees in Finland and concern temporary and permanent lay-offs\"\n",
    "\n",
    "#Neutral\n",
    "exert3 = \"A few employees would remain at the Oulu plant in support functions for other group units\" "
   ]
  },
  {
   "attachments": {},
   "cell_type": "markdown",
   "metadata": {},
   "source": [
    "Funções"
   ]
  },
  {
   "cell_type": "code",
   "execution_count": 8,
   "metadata": {},
   "outputs": [],
   "source": [
    "def get_split(text_input):\n",
    "\n",
    "    l_total = []\n",
    "    l_parcial = []\n",
    "\n",
    "    if len(text_input.split())//150 > 0:\n",
    "        n = len(text_input.split())//150\n",
    "    else:\n",
    "        n = 1\n",
    "    \n",
    "    for w in range(n):\n",
    "        if w == 0:\n",
    "            l_parcial = text_input.split()[:200]\n",
    "            l_total.append(\" \".join(l_parcial))\n",
    "        else:\n",
    "            l_parcial = text_input.split()[w*150:w*150 + 200]\n",
    "            l_total.append(\" \".join(l_parcial))\n",
    "    return l_total\n",
    "\n",
    "def change_range(df, min_v, max_v):\n",
    "    lst = []\n",
    "    for i in range(0, len(df)):\n",
    "        old_value = df[i]\n",
    "        old_min = min_v\n",
    "        old_max = max_v\n",
    "        new_min = 0\n",
    "        new_max = 1\n",
    "    \n",
    "        new_value = ((old_value - old_min) / (old_max - old_min)) * (new_max - new_min) + new_min\n",
    "        lst += [new_value]\n",
    "    \n",
    "    return lst  \n"
   ]
  },
  {
   "attachments": {},
   "cell_type": "markdown",
   "metadata": {},
   "source": [
    "Análise de Sentimento"
   ]
  },
  {
   "cell_type": "code",
   "execution_count": 18,
   "metadata": {},
   "outputs": [
    {
     "name": "stderr",
     "output_type": "stream",
     "text": [
      "02/07/2023 22:28:08 - INFO - root -   Using device: cpu \n",
      "02/07/2023 22:28:08 - INFO - finbert.utils -   *** Example ***\n",
      "02/07/2023 22:28:08 - INFO - finbert.utils -   guid: 0\n",
      "02/07/2023 22:28:08 - INFO - finbert.utils -   tokens: [CLS] after the reporting period , bio ##tie north american licensing partner so ##max ##on pharmaceuticals announced positive results with na ##lm ##efe ##ne in a pilot phase 2 clinical trial for smoking ce ##ssa ##tion [SEP]\n",
      "02/07/2023 22:28:08 - INFO - finbert.utils -   input_ids: 101 2044 1996 7316 2558 1010 16012 9515 2167 2137 13202 4256 2061 17848 2239 24797 2623 3893 3463 2007 6583 13728 27235 2638 1999 1037 4405 4403 1016 6612 3979 2005 9422 8292 11488 3508 102 0 0 0 0 0 0 0 0 0 0 0 0 0 0 0 0 0 0 0 0 0 0 0 0 0 0 0\n",
      "02/07/2023 22:28:08 - INFO - finbert.utils -   attention_mask: 1 1 1 1 1 1 1 1 1 1 1 1 1 1 1 1 1 1 1 1 1 1 1 1 1 1 1 1 1 1 1 1 1 1 1 1 1 0 0 0 0 0 0 0 0 0 0 0 0 0 0 0 0 0 0 0 0 0 0 0 0 0 0 0\n",
      "02/07/2023 22:28:08 - INFO - finbert.utils -   token_type_ids: 0 0 0 0 0 0 0 0 0 0 0 0 0 0 0 0 0 0 0 0 0 0 0 0 0 0 0 0 0 0 0 0 0 0 0 0 0 0 0 0 0 0 0 0 0 0 0 0 0 0 0 0 0 0 0 0 0 0 0 0 0 0 0 0\n",
      "02/07/2023 22:28:08 - INFO - finbert.utils -   label: None (id = 9090)\n",
      "02/07/2023 22:28:08 - INFO - root -   tensor([[ 2.0355, -2.0452, -1.1247]])\n",
      "02/07/2023 22:28:08 - INFO - root -   Using device: cpu \n",
      "02/07/2023 22:28:08 - INFO - finbert.utils -   *** Example ***\n",
      "02/07/2023 22:28:08 - INFO - finbert.utils -   guid: 0\n",
      "02/07/2023 22:28:08 - INFO - finbert.utils -   tokens: [CLS] they will cover all forest industry ' s units and employees in finland and concern temporary and permanent lay - offs [SEP]\n",
      "02/07/2023 22:28:08 - INFO - finbert.utils -   input_ids: 101 2027 2097 3104 2035 3224 3068 1005 1055 3197 1998 5126 1999 6435 1998 5142 5741 1998 4568 3913 1011 12446 102 0 0 0 0 0 0 0 0 0 0 0 0 0 0 0 0 0 0 0 0 0 0 0 0 0 0 0 0 0 0 0 0 0 0 0 0 0 0 0 0 0\n",
      "02/07/2023 22:28:08 - INFO - finbert.utils -   attention_mask: 1 1 1 1 1 1 1 1 1 1 1 1 1 1 1 1 1 1 1 1 1 1 1 0 0 0 0 0 0 0 0 0 0 0 0 0 0 0 0 0 0 0 0 0 0 0 0 0 0 0 0 0 0 0 0 0 0 0 0 0 0 0 0 0\n",
      "02/07/2023 22:28:08 - INFO - finbert.utils -   token_type_ids: 0 0 0 0 0 0 0 0 0 0 0 0 0 0 0 0 0 0 0 0 0 0 0 0 0 0 0 0 0 0 0 0 0 0 0 0 0 0 0 0 0 0 0 0 0 0 0 0 0 0 0 0 0 0 0 0 0 0 0 0 0 0 0 0\n",
      "02/07/2023 22:28:08 - INFO - finbert.utils -   label: None (id = 9090)\n",
      "02/07/2023 22:28:09 - INFO - root -   tensor([[-1.9720,  2.9675, -0.5408]])\n"
     ]
    }
   ],
   "source": [
    "teste = exert0\n",
    "\n",
    "textos = pd.DataFrame(teste.split('\\n\\n'), columns = ['Text'])\n",
    "textos['Result'] = \"\"\n",
    "\n",
    "for d in range(0, len(textos['Text'])):\n",
    "    result = predict(textos['Text'][d], model)\n",
    "    result['prob_pos'] = result.logit.apply(lambda x:x[0])\n",
    "    textos['Result'][d] = result.prob_pos.mean() \n"
   ]
  },
  {
   "attachments": {},
   "cell_type": "markdown",
   "metadata": {},
   "source": [
    "Normalização e Análise"
   ]
  },
  {
   "cell_type": "code",
   "execution_count": 19,
   "metadata": {},
   "outputs": [
    {
     "data": {
      "text/html": [
       "<div>\n",
       "<style scoped>\n",
       "    .dataframe tbody tr th:only-of-type {\n",
       "        vertical-align: middle;\n",
       "    }\n",
       "\n",
       "    .dataframe tbody tr th {\n",
       "        vertical-align: top;\n",
       "    }\n",
       "\n",
       "    .dataframe thead th {\n",
       "        text-align: right;\n",
       "    }\n",
       "</style>\n",
       "<table border=\"1\" class=\"dataframe\">\n",
       "  <thead>\n",
       "    <tr style=\"text-align: right;\">\n",
       "      <th></th>\n",
       "      <th>Text</th>\n",
       "      <th>Result</th>\n",
       "    </tr>\n",
       "  </thead>\n",
       "  <tbody>\n",
       "    <tr>\n",
       "      <th>0</th>\n",
       "      <td>After the reporting period , BioTie North American licensing partner Somaxon Pharmaceuticals announced positive results with nalmefene in a pilot Phase 2 clinical trial for smoking cessation</td>\n",
       "      <td>0.944006</td>\n",
       "    </tr>\n",
       "    <tr>\n",
       "      <th>1</th>\n",
       "      <td>They will cover all Forest Industry's units and employees in Finland and concern temporary and permanent lay-offs</td>\n",
       "      <td>0.006902</td>\n",
       "    </tr>\n",
       "  </tbody>\n",
       "</table>\n",
       "</div>"
      ],
      "text/plain": [
       "                                                                                                                                                                                             Text  \\\n",
       "0  After the reporting period , BioTie North American licensing partner Somaxon Pharmaceuticals announced positive results with nalmefene in a pilot Phase 2 clinical trial for smoking cessation   \n",
       "1                                                                               They will cover all Forest Industry's units and employees in Finland and concern temporary and permanent lay-offs   \n",
       "\n",
       "     Result  \n",
       "0  0.944006  \n",
       "1  0.006902  "
      ]
     },
     "execution_count": 19,
     "metadata": {},
     "output_type": "execute_result"
    }
   ],
   "source": [
    "textos"
   ]
  },
  {
   "cell_type": "code",
   "execution_count": 16,
   "metadata": {},
   "outputs": [
    {
     "data": {
      "text/plain": [
       "50.0"
      ]
     },
     "execution_count": 16,
     "metadata": {},
     "output_type": "execute_result"
    }
   ],
   "source": [
    "min_v = textos['Result'].min()\n",
    "max_v = textos['Result'].max()\n",
    "textos['Scores_adj'] = np.array(change_range(textos['Result'], min_v, max_v))\n",
    "\n",
    "textos['Scores_adj'].mean()*100"
   ]
  }
 ],
 "metadata": {
  "kernelspec": {
   "display_name": "base",
   "language": "python",
   "name": "python3"
  },
  "language_info": {
   "codemirror_mode": {
    "name": "ipython",
    "version": 3
   },
   "file_extension": ".py",
   "mimetype": "text/x-python",
   "name": "python",
   "nbconvert_exporter": "python",
   "pygments_lexer": "ipython3",
   "version": "3.7.6"
  },
  "orig_nbformat": 4,
  "vscode": {
   "interpreter": {
    "hash": "e3eb86e430a5509920f3453e77c50f3391ea3767bdb44dcc3e78c42ca90283f8"
   }
  }
 },
 "nbformat": 4,
 "nbformat_minor": 2
}
